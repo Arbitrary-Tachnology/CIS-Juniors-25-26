{
 "cells": [
  {
   "cell_type": "markdown",
   "id": "0858ad66",
   "metadata": {},
   "source": [
    "# Introduction to HTML"
   ]
  },
  {
   "cell_type": "markdown",
   "id": "84e1330e",
   "metadata": {},
   "source": [
    "## HTML Defined\n",
    "\n",
    "**HTML** - Hypertext Markup Language - This is the language used to describe your content.\n",
    "\n",
    "**CSS** - Cascading Style Sheets - This is the language used to design the way your content looks on the web.\n",
    "\n",
    "**JavaScript** - NOT to be confused with Java - JS is the language used for adding Interactivity to web pages.\n",
    "\n",
    "### These are the 3 main web languages"
   ]
  },
  {
   "cell_type": "markdown",
   "id": "bf01f6ac",
   "metadata": {},
   "source": [
    "### Web Browsers\n",
    "\n",
    "* Software used for browsing, reading, and translating web documents\n",
    "* Examples of web browsers:\n",
    "    * Google Chrome\n",
    "    * FireFox\n",
    "    * Safari\n",
    "    * Microsoft Edge\n",
    "    * Opera GX\n",
    "    * Duck Duck Go\n",
    "    * Brave\n",
    "    * Internet Explorer (MS) - Depricated\n",
    "    * Netscape - Depricated\n",
    "* Why you do not use or UN-Updated browsers\n",
    "    * Security - security updates "
   ]
  },
  {
   "cell_type": "markdown",
   "id": "6adc0ab6",
   "metadata": {},
   "source": [
    "### HTML Skeleton/Structure\n",
    "\n",
    "#### See index.html in this folder\n",
    "\n",
    "### Structure of an HTML Tag:\n",
    "\n",
    "\n",
    "<meta charset=\"UTF-8\">\n",
    "\n",
    "* Tag Name\n",
    "* Attribute Name\n",
    "* Attribute Value"
   ]
  },
  {
   "cell_type": "markdown",
   "id": "0d15a65d",
   "metadata": {},
   "source": [
    "### Key Concepts of HTML\n",
    "\n",
    "* Most HTML Tags have an Opening and a Closing Tag\n",
    "* HTML Elements - These are created by a complete pair of tags with content\n",
    "* Attributes - additional information about the elements\n",
    "\n",
    "#### Essential HTML Elements:\n",
    "\n",
    "* < h1 >< /h1> through < h6 >< /h6 > - headings, H1 is the largest by default, H6 is the smallest\n",
    "* < p >< /p > - paragraph elements\n",
    "* < br > - Line Break"
   ]
  },
  {
   "cell_type": "markdown",
   "id": "4d9519c2",
   "metadata": {},
   "source": []
  }
 ],
 "metadata": {
  "language_info": {
   "name": "python"
  }
 },
 "nbformat": 4,
 "nbformat_minor": 5
}
